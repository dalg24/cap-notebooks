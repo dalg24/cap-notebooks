{
 "cells": [
  {
   "cell_type": "code",
   "execution_count": 1,
   "metadata": {
    "collapsed": false
   },
   "outputs": [
    {
     "name": "stdout",
     "output_type": "stream",
     "text": [
      "Installed tikzmagic.py. To use it, type:\n",
      "  %load_ext tikzmagic\n"
     ]
    }
   ],
   "source": [
    "%install_ext https://raw.githubusercontent.com/mkrphys/ipython-tikzmagic/master/tikzmagic.py"
   ]
  },
  {
   "cell_type": "code",
   "execution_count": 2,
   "metadata": {
    "collapsed": true
   },
   "outputs": [],
   "source": [
    "%load_ext tikzmagic"
   ]
  },
  {
   "cell_type": "code",
   "execution_count": 3,
   "metadata": {
    "collapsed": false
   },
   "outputs": [
    {
     "data": {
      "image/png": "[encoded data removed]"
     },
     "metadata": {},
     "output_type": "display_data"
    }
   ],
   "source": [
    "%tikz \\draw (0,0) rectangle (1,1);"
   ]
  },
  {
   "cell_type": "code",
   "execution_count": 4,
   "metadata": {
    "collapsed": false
   },
   "outputs": [
    {
     "name": "stdout",
     "output_type": "stream",
     "text": [
      "Installed circuitikz.py. To use it, type:\n",
      "  %load_ext circuitikz\n"
     ]
    }
   ],
   "source": [
    "%install_ext https://raw.githubusercontent.com/jrjohansson/ipython-circuitikz/master/circuitikz.py\n"
   ]
  },
  {
   "cell_type": "code",
   "execution_count": 5,
   "metadata": {
    "collapsed": true
   },
   "outputs": [],
   "source": [
    "%load_ext circuitikz"
   ]
  },
  {
   "cell_type": "code",
   "execution_count": 21,
   "metadata": {
    "collapsed": false
   },
   "outputs": [
    {
     "data": {
      "image/png": "[encoded data removed]",
      "text/plain": [
       "<IPython.core.display.Image object>"
      ]
     },
     "execution_count": 21,
     "metadata": {},
     "output_type": "execute_result"
    }
   ],
   "source": [
    "%%circuitikz filename=rc_series dpi=125\n",
    "\n",
    "\\begin{circuitikz}[scale=1]\n",
    "\\draw (-0.5,0)\n",
    "    to[short,o-] (0,0)\n",
    "    to[R,l^=ESR] (2,0)\n",
    "    to[C,l_=C] (4,0)\n",
    "    to[short,-o] (4,0);\n",
    "\\end{circuitikz}"
   ]
  },
  {
   "cell_type": "code",
   "execution_count": 16,
   "metadata": {
    "collapsed": false
   },
   "outputs": [
    {
     "data": {
      "image/png": "[encoded data removed]",
      "text/plain": [
       "<IPython.core.display.Image object>"
      ]
     },
     "execution_count": 16,
     "metadata": {},
     "output_type": "execute_result"
    }
   ],
   "source": [
    "%%circuitikz filename=rc_parallel dpi=125\n",
    "\n",
    "\\begin{circuitikz}[scale=1]\n",
    "\\draw (-0.5,0)\n",
    "    to[short,o-] (0,0)\n",
    "    to[R,l^=ESR] (2,0)\n",
    "    to[C,l_=C] (4,0)\n",
    "    to[short,-o] (5,0);\n",
    "\\draw (2,0)\n",
    "    to[short] (2,1)\n",
    "    to[R,l^=EPR] (4,1)\n",
    "    to[short] (4,0);\n",
    "\\end{circuitikz}"
   ]
  },
  {
   "cell_type": "code",
   "execution_count": 13,
   "metadata": {
    "collapsed": false
   },
   "outputs": [
    {
     "data": {
      "image/png": "[encoded data removed]",
      "text/plain": [
       "<IPython.core.display.Image object>"
      ]
     },
     "execution_count": 13,
     "metadata": {},
     "output_type": "execute_result"
    }
   ],
   "source": [
    "%%circuitikz filename=transmission_line dpi=125\n",
    "\n",
    "\\begin{circuitikz}\n",
    "\\draw (-0.5,0)\n",
    "    to[short,o-] (0,0)\n",
    "    to[R,l^=R$_1$] (2,0)\n",
    "    to[generic,l=Y] (2,-2)\n",
    "    to[R,l_=R$_2$] (4,-2);\n",
    "\\draw (2,0)\n",
    "    to[R,l^=R$_1$] (4,0)\n",
    "    to[generic,l=Y] (4,-2)\n",
    "    to[R,l_=R$_2$] (6,-2);\n",
    "\\draw (4,0)\n",
    "    to[R,l^=R$_1$] (6,0)\n",
    "    to[generic,l=Y] (6,-2);\n",
    "\\draw[dashed] (6,0) -- (8,0);\n",
    "\\draw[dashed] (6,-2) -- (8,-2);\n",
    "\\draw (8,0)\n",
    "    to[generic,l=Y] (8,-2)\n",
    "    to[R,l_=R$_2$] (10,-2);\n",
    "\\draw (8,0)\n",
    "    to[R,l^=R$_1$] (10,0)\n",
    "    to[generic,l=Y] (10,-2)\n",
    "    to[R,l_=R$_2$] (12,-2)\n",
    "    to[short,-o] (12.5,-2);\n",
    "\\end{circuitikz}"
   ]
  },
  {
   "cell_type": "markdown",
   "metadata": {},
   "source": [
    "# Equivalent circuits\n",
    "Simple resistor-capacitor (RC) equivalent circuits have been implemented.\n",
    "### Series RC <img src=rc_series.png>\n",
    "A resistor and a capacitor are connected in series.\n",
    "```\n",
    "<device>\n",
    "    <type>              SeriesRC </type>\n",
    "    <series_resistance>  50.0e-3 </series_resistance> <!-- ohm -->\n",
    "    <capacitance>         3.0    </capacitance>       <!-- farad -->\n",
    "</device>\n",
    "```\n",
    "Above is the database to build a $3\\ \\mathrm{F}$ capacitor in series \n",
    "with a $50\\ \\mathrm{m}\\Omega$ $\\mathrm{ESR}$ (stands for equivalent series resistance).\n",
    "\n",
    "### Parallel RC <img src=rc_parallel.png>\n",
    "An extra resistance is placed in parallel of the capacitor.\n",
    "It can be instantiated by the following database.\n",
    "```\n",
    "<device>\n",
    "    <type>                ParallelRC </type>\n",
    "    <parallel_resistance>     2.5e+6 </parallel_resistance> <!-- ohm -->\n",
    "    <series_resistance>      50.0e-3 </series_resistance>   <!-- ohm -->\n",
    "    <capacitance>             3.0    </capacitance>         <!-- farad -->\n",
    "</device>\n",
    "```\n",
    "`type` has been changed from `SeriesRC` to `ParallelRC`.\n",
    "A $2.5\\ \\mathrm{M}\\Omega$ leakage resistance is speciefied for $\\mathrm{EPR}$."
   ]
  },
  {
   "cell_type": "code",
   "execution_count": 1,
   "metadata": {
    "collapsed": true
   },
   "outputs": [],
   "source": [
    "import pycap\n",
    "import numpy\n",
    "from matplotlib import pyplot\n",
    "%matplotlib inline"
   ]
  },
  {
   "cell_type": "markdown",
   "metadata": {},
   "source": [
    "# Example\n",
    "Charge from initial state fully discharged at constant voltage $U_*=1.7\\ \\mathrm{V}$ for $2 \\mathrm{s}$."
   ]
  },
  {
   "cell_type": "code",
   "execution_count": 2,
   "metadata": {
    "collapsed": false
   },
   "outputs": [],
   "source": [
    "U=1.7 # charge potential in volt\n",
    "t_final=2.0 # final time in second\n",
    "def do_constant_voltage_charge(device):\n",
    "    delta_t=0.01 # time step in second\n",
    "    t=0.0\n",
    "    time=numpy.array([],dtype=float)\n",
    "    current=numpy.array([],dtype=float)\n",
    "    voltage=numpy.array([],dtype=float)\n",
    "    while t<=t_final:\n",
    "        t+=delta_t\n",
    "        device.evolve_one_time_step_constant_voltage(delta_t,U)\n",
    "        time=numpy.append(time,t)\n",
    "        current=numpy.append(current,device.get_current())\n",
    "        voltage=numpy.append(voltage,device.get_voltage())\n",
    "    return {'time':time,'current':current,'voltage':voltage}"
   ]
  },
  {
   "cell_type": "code",
   "execution_count": 14,
   "metadata": {
    "collapsed": false
   },
   "outputs": [],
   "source": [
    "def plot_data(data):\n",
    "    time=data['time']\n",
    "    current=data['current']\n",
    "    voltage=data['voltage']\n",
    "    label_fontsize=20\n",
    "    plot_linewidth=2\n",
    "    pyplot.figure(figsize=(8,6))\n",
    "    pyplot.plot(time,current,lw=plot_linewidth)\n",
    "    pyplot.xlabel(r'$\\mathrm{Time\\ [s]}$',fontsize=label_fontsize)\n",
    "    pyplot.ylabel(r'$\\mathrm{Current\\ [A]}$',fontsize=label_fontsize)\n",
    "    pyplot.show()"
   ]
  },
  {
   "cell_type": "code",
   "execution_count": 15,
   "metadata": {
    "collapsed": false
   },
   "outputs": [
    {
     "data": {
      "image/png": "[encoded data removed]",
      "text/plain": [
       "<matplotlib.figure.Figure at 0x112b44290>"
      ]
     },
     "metadata": {},
     "output_type": "display_data"
    }
   ],
   "source": [
    "ESR=50.0e-3 # ohm\n",
    "C=3.0 # farad\n",
    "\n",
    "# initiate a database\n",
    "device_database=pycap.PropertyTree()\n",
    "# fill it\n",
    "device_database.put_string('device.type','SeriesRC')\n",
    "device_database.put_double('device.series_resistance',ESR)\n",
    "device_database.put_double('device.capacitance',C)\n",
    "# build an energy storage device\n",
    "device=pycap.EnergyStorageDevice(device_database)\n",
    "# charge it\n",
    "data=do_constant_voltage_charge(device)\n",
    "time=data['time']\n",
    "current=data['current']\n",
    "voltage=data['voltage']\n",
    "# plot the data\n",
    "plot_data(data)"
   ]
  },
  {
   "cell_type": "code",
   "execution_count": 16,
   "metadata": {
    "collapsed": false
   },
   "outputs": [
    {
     "name": "stdout",
     "output_type": "stream",
     "text": [
      "max percent error = 6.014144e-09\n"
     ]
    }
   ],
   "source": [
    "# compute the exact answer\n",
    "i=U/ESR*numpy.exp(-time/(ESR*C))\n",
    "# ensure that the error is small\n",
    "error_norm=100*numpy.linalg.norm((current-i)/current,numpy.inf)\n",
    "percent_tolerance=1.0e-4\n",
    "print 'max percent error = %e'%error_norm\n",
    "assert error_norm<percent_tolerance"
   ]
  },
  {
   "cell_type": "markdown",
   "metadata": {},
   "source": [
    "$100 \\times \\left\\|\\frac{i_{computed}-i_{exact}}{i_{computed}}\\right\\|_\\infty$\n",
    "\n",
    "\\begin{equation}\n",
    "i_{exact} = \\frac{U_*}{R} e^{-t / RC}\n",
    "\\end{equation}"
   ]
  },
  {
   "cell_type": "code",
   "execution_count": 17,
   "metadata": {
    "collapsed": false
   },
   "outputs": [],
   "source": [
    "# database can also be filled by parsing an input file\n",
    "device_database=pycap.PropertyTree()\n",
    "device_database.parse_xml('parallel_rc.xml')\n",
    "# build the corresponding energy storage device\n",
    "device=pycap.EnergyStorageDevice(device_database)\n",
    "assert device_database.get_string('device.type')=='ParallelRC'\n",
    "C=device_database.get_double('device.capacitance')\n",
    "ESR=device_database.get_double('device.series_resistance')\n",
    "EPR=device_database.get_double('device.parallel_resistance')\n",
    "# charge the device\n",
    "data=do_constant_voltage_charge(device)\n",
    "time=data['time']\n",
    "current=data['current']\n",
    "voltage=data['voltage']"
   ]
  },
  {
   "cell_type": "code",
   "execution_count": 18,
   "metadata": {
    "collapsed": false
   },
   "outputs": [
    {
     "name": "stdout",
     "output_type": "stream",
     "text": [
      "max percent error = 1.634168e-08\n"
     ]
    }
   ],
   "source": [
    "# compute the exact answer\n",
    "i=U/ESR*(1+EPR/(ESR+EPR)*numpy.expm1(-time/(ESR*EPR/(ESR+EPR)*C)))\n",
    "# ensure that the error is small\n",
    "error_norm=100*numpy.linalg.norm((current-i)/current,numpy.inf)\n",
    "percent_tolerance=1.0e-4\n",
    "print 'max percent error = %e'%error_norm\n",
    "assert error_norm<percent_tolerance"
   ]
  },
  {
   "cell_type": "markdown",
   "metadata": {},
   "source": [
    "\\begin{equation}\n",
    "i_{exact}=\\frac{U_*}{R} (1 - \\frac{R_L}{R+R_L} (1 - e^{-t / \\frac{R R_L}{R+R_L}C})\n",
    "\\end{equation}\n"
   ]
  },
  {
   "cell_type": "code",
   "execution_count": null,
   "metadata": {
    "collapsed": true
   },
   "outputs": [],
   "source": []
  }
 ],
 "metadata": {
  "kernelspec": {
   "display_name": "Python 2",
   "language": "python",
   "name": "python2"
  },
  "language_info": {
   "codemirror_mode": {
    "name": "ipython",
    "version": 2
   },
   "file_extension": ".py",
   "mimetype": "text/x-python",
   "name": "python",
   "nbconvert_exporter": "python",
   "pygments_lexer": "ipython2",
   "version": "2.7.10"
  }
 },
 "nbformat": 4,
 "nbformat_minor": 0
}
