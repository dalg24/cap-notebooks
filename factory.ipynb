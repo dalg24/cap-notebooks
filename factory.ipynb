{
 "cells": [
  {
   "cell_type": "code",
   "execution_count": 1,
   "metadata": {
    "collapsed": false
   },
   "outputs": [
    {
     "name": "stdout",
     "output_type": "stream",
     "text": [
      "/Users/qdi/Projects/cap/clang-3.7.0/install/opt/cap/python/pycap/__init__.pyc\n",
      "master 6b47eb4bf513207b244272a4e1256d26a9544ae2\n"
     ]
    }
   ],
   "source": [
    "import pycap\n",
    "print pycap.__file__\n",
    "print pycap.__git_branch__,pycap.__git_commit_hash__\n",
    "from pycap import initialize_data,report_data,plot_data\n",
    "import numpy\n",
    "from matplotlib import pyplot\n",
    "%matplotlib inline"
   ]
  },
  {
   "cell_type": "code",
   "execution_count": 2,
   "metadata": {
    "collapsed": true
   },
   "outputs": [],
   "source": [
    "from pycap import TimeEvolution,EndCriterion"
   ]
  },
  {
   "cell_type": "code",
   "execution_count": 3,
   "metadata": {
    "collapsed": false
   },
   "outputs": [],
   "source": [
    "class Stage:\n",
    "    def __init__(self,ptree):\n",
    "        self.evolve_one_time_step=TimeEvolution.factory(ptree)\n",
    "        self.end_criterion=EndCriterion.factory(ptree)\n",
    "        self.time_step=ptree.get_double('time_step')\n",
    "    def run(self,device,data={}):\n",
    "        if not data:\n",
    "            time=0.0\n",
    "        elif len(data['time'])>0:\n",
    "            time=data['time'][-1]\n",
    "        else:\n",
    "            time=0.0\n",
    "        self.end_criterion.reset(time,device)\n",
    "        while not self.end_criterion.check(time,device):\n",
    "            time+=self.time_step\n",
    "            self.evolve_one_time_step(device,self.time_step)\n",
    "            if data:\n",
    "                report_data(data,time,device)\n",
    "\n",
    "class MultiStage:\n",
    "    def __init__(self,ptree):\n",
    "        self.stages=[]\n",
    "        for stage in range(ptree.get_int('stages')):\n",
    "            child=ptree.get_child('stage_'+str(stage))\n",
    "            try:\n",
    "                child.get_double('time_step')\n",
    "            except:\n",
    "                time_step=ptree.get_double('time_step')\n",
    "                child.put_double('time_step',time_step)\n",
    "            self.stages.append(Stage(child))\n",
    "        self.cycles=ptree.get_int('cycles')\n",
    "    def run(self,device,data={}):\n",
    "        for cycle in range(self.cycles):\n",
    "            for stage in self.stages:\n",
    "                stage.run(device,data)"
   ]
  },
  {
   "cell_type": "code",
   "execution_count": 4,
   "metadata": {
    "collapsed": false
   },
   "outputs": [
    {
     "ename": "TypeError",
     "evalue": "'NoneType' object is not callable",
     "output_type": "error",
     "traceback": [
      "\u001b[0;31m---------------------------------------------------------------------------\u001b[0m",
      "\u001b[0;31mTypeError\u001b[0m                                 Traceback (most recent call last)",
      "\u001b[0;32m<ipython-input-4-c216d5eb5995>\u001b[0m in \u001b[0;36m<module>\u001b[0;34m()\u001b[0m\n\u001b[1;32m      5\u001b[0m \u001b[0mdata\u001b[0m\u001b[0;34m=\u001b[0m\u001b[0minitialize_data\u001b[0m\u001b[0;34m(\u001b[0m\u001b[0;34m)\u001b[0m\u001b[0;34m\u001b[0m\u001b[0m\n\u001b[1;32m      6\u001b[0m \u001b[0mexperiment\u001b[0m\u001b[0;34m=\u001b[0m\u001b[0mMultiStage\u001b[0m\u001b[0;34m(\u001b[0m\u001b[0minput_database\u001b[0m\u001b[0;34m.\u001b[0m\u001b[0mget_child\u001b[0m\u001b[0;34m(\u001b[0m\u001b[0;34m'operating_conditions'\u001b[0m\u001b[0;34m)\u001b[0m\u001b[0;34m)\u001b[0m\u001b[0;34m\u001b[0m\u001b[0m\n\u001b[0;32m----> 7\u001b[0;31m \u001b[0mexperiment\u001b[0m\u001b[0;34m.\u001b[0m\u001b[0mrun\u001b[0m\u001b[0;34m(\u001b[0m\u001b[0mdevice\u001b[0m\u001b[0;34m,\u001b[0m\u001b[0mdata\u001b[0m\u001b[0;34m)\u001b[0m\u001b[0;34m\u001b[0m\u001b[0m\n\u001b[0m",
      "\u001b[0;32m<ipython-input-3-816c52c315d6>\u001b[0m in \u001b[0;36mrun\u001b[0;34m(self, device, data)\u001b[0m\n\u001b[1;32m     33\u001b[0m         \u001b[0;32mfor\u001b[0m \u001b[0mcycle\u001b[0m \u001b[0;32min\u001b[0m \u001b[0mrange\u001b[0m\u001b[0;34m(\u001b[0m\u001b[0mself\u001b[0m\u001b[0;34m.\u001b[0m\u001b[0mcycles\u001b[0m\u001b[0;34m)\u001b[0m\u001b[0;34m:\u001b[0m\u001b[0;34m\u001b[0m\u001b[0m\n\u001b[1;32m     34\u001b[0m             \u001b[0;32mfor\u001b[0m \u001b[0mstage\u001b[0m \u001b[0;32min\u001b[0m \u001b[0mself\u001b[0m\u001b[0;34m.\u001b[0m\u001b[0mstages\u001b[0m\u001b[0;34m:\u001b[0m\u001b[0;34m\u001b[0m\u001b[0m\n\u001b[0;32m---> 35\u001b[0;31m                 \u001b[0mstage\u001b[0m\u001b[0;34m.\u001b[0m\u001b[0mrun\u001b[0m\u001b[0;34m(\u001b[0m\u001b[0mdevice\u001b[0m\u001b[0;34m,\u001b[0m\u001b[0mdata\u001b[0m\u001b[0;34m)\u001b[0m\u001b[0;34m\u001b[0m\u001b[0m\n\u001b[0m",
      "\u001b[0;32m<ipython-input-3-816c52c315d6>\u001b[0m in \u001b[0;36mrun\u001b[0;34m(self, device, data)\u001b[0m\n\u001b[1;32m     14\u001b[0m         \u001b[0;32mwhile\u001b[0m \u001b[0;32mnot\u001b[0m \u001b[0mself\u001b[0m\u001b[0;34m.\u001b[0m\u001b[0mend_criterion\u001b[0m\u001b[0;34m.\u001b[0m\u001b[0mcheck\u001b[0m\u001b[0;34m(\u001b[0m\u001b[0mtime\u001b[0m\u001b[0;34m,\u001b[0m\u001b[0mdevice\u001b[0m\u001b[0;34m)\u001b[0m\u001b[0;34m:\u001b[0m\u001b[0;34m\u001b[0m\u001b[0m\n\u001b[1;32m     15\u001b[0m             \u001b[0mtime\u001b[0m\u001b[0;34m+=\u001b[0m\u001b[0mself\u001b[0m\u001b[0;34m.\u001b[0m\u001b[0mtime_step\u001b[0m\u001b[0;34m\u001b[0m\u001b[0m\n\u001b[0;32m---> 16\u001b[0;31m             \u001b[0mself\u001b[0m\u001b[0;34m.\u001b[0m\u001b[0mevolve_one_time_step\u001b[0m\u001b[0;34m(\u001b[0m\u001b[0mdevice\u001b[0m\u001b[0;34m,\u001b[0m\u001b[0mself\u001b[0m\u001b[0;34m.\u001b[0m\u001b[0mtime_step\u001b[0m\u001b[0;34m)\u001b[0m\u001b[0;34m\u001b[0m\u001b[0m\n\u001b[0m\u001b[1;32m     17\u001b[0m             \u001b[0;32mif\u001b[0m \u001b[0mdata\u001b[0m\u001b[0;34m:\u001b[0m\u001b[0;34m\u001b[0m\u001b[0m\n\u001b[1;32m     18\u001b[0m                 \u001b[0mreport_data\u001b[0m\u001b[0;34m(\u001b[0m\u001b[0mdata\u001b[0m\u001b[0;34m,\u001b[0m\u001b[0mtime\u001b[0m\u001b[0;34m,\u001b[0m\u001b[0mdevice\u001b[0m\u001b[0;34m)\u001b[0m\u001b[0;34m\u001b[0m\u001b[0m\n",
      "\u001b[0;31mTypeError\u001b[0m: 'NoneType' object is not callable"
     ]
    }
   ],
   "source": [
    "input_database=pycap.PropertyTree()\n",
    "input_database.parse_xml('multi_stage.xml')\n",
    "device=pycap.EnergyStorageDevice(input_database)\n",
    "\n",
    "data=initialize_data()\n",
    "experiment=MultiStage(input_database.get_child('operating_conditions'))\n",
    "experiment.run(device,data)\n"
   ]
  },
  {
   "cell_type": "code",
   "execution_count": null,
   "metadata": {
    "collapsed": false
   },
   "outputs": [],
   "source": [
    "plot_data(data)"
   ]
  },
  {
   "cell_type": "code",
   "execution_count": null,
   "metadata": {
    "collapsed": true
   },
   "outputs": [],
   "source": []
  },
  {
   "cell_type": "code",
   "execution_count": null,
   "metadata": {
    "collapsed": true
   },
   "outputs": [],
   "source": []
  },
  {
   "cell_type": "code",
   "execution_count": null,
   "metadata": {
    "collapsed": true
   },
   "outputs": [],
   "source": []
  },
  {
   "cell_type": "code",
   "execution_count": null,
   "metadata": {
    "collapsed": true
   },
   "outputs": [],
   "source": [
    "class TimeEvolution:\n",
    "    def factory(ptree):\n",
    "        mode=ptree.get_string('type')\n",
    "    \n",
    "        if   mode=='constant_voltage' or mode=='potentiostatic':\n",
    "            constant_voltage=ptree.get_double('voltage')\n",
    "            def evolve_one_time_step_constant_voltage(device,time_step):\n",
    "                device.evolve_one_time_step_constant_voltage(time_step,constant_voltage)\n",
    "            return evolve_one_time_step_constant_voltage\n",
    "\n",
    "        elif mode=='constant_current' or mode=='galvanostatic':\n",
    "            constant_current=ptree.get_double('current')\n",
    "            def evolve_one_time_step_constant_current(device,time_step):\n",
    "                device.evolve_one_time_step_constant_current(time_step,constant_current)\n",
    "            return evolve_one_time_step_constant_current\n",
    "\n",
    "        elif mode=='constant_power'  :\n",
    "            constant_power  =ptree.get_double('power'  )\n",
    "            def evolve_one_time_step_constant_power  (device,time_step):\n",
    "                device.evolve_one_time_step_constant_power  (time_step,constant_power  )\n",
    "            return evolve_one_time_step_constant_power\n",
    "\n",
    "        elif mode=='constant_load'   :\n",
    "            constant_load   =ptree.get_double('load'   )\n",
    "            def evolve_one_time_step_constant_load   (device,time_step):\n",
    "                device.evolve_one_time_step_constant_load   (time_step,constant_load   )\n",
    "            return evolve_one_time_step_constant_load\n",
    "        \n",
    "    factory=staticmethod(factory)"
   ]
  },
  {
   "cell_type": "code",
   "execution_count": null,
   "metadata": {
    "collapsed": false
   },
   "outputs": [],
   "source": [
    "import operator\n",
    "\n",
    "class EndCriterion:\n",
    "    def check(self,time,device):\n",
    "        raise NotImplementedError\n",
    "    def reset(self,time,device):\n",
    "        raise NotImplementedError\n",
    "    def factory(ptree):\n",
    "        type=ptree.get_string('end_criterion')\n",
    "        if   type=='time':\n",
    "            return TimeLimit(ptree)\n",
    "        elif type=='voltage_greater_than':\n",
    "            return VoltageLimit(ptree,operator.ge)\n",
    "        elif type=='voltage_less_than'   :\n",
    "            return VoltageLimit(ptree,operator.le)\n",
    "        elif type=='current_greater_than':\n",
    "            return CurrentLimit(ptree,operator.ge)\n",
    "        elif type=='current_less_than'   :\n",
    "            return CurrentLimit(ptree,operator.le)\n",
    "        else:\n",
    "            raise NameError(\"invalid EndCriterion type '\"+type+\"'\")\n",
    "\n",
    "    factory=staticmethod(factory)\n",
    "\n",
    "class TimeLimit(EndCriterion):\n",
    "    def __init__(self,ptree):\n",
    "        self.duration=ptree.get_double('duration')\n",
    "    def check(self,time,device):\n",
    "        return time-self.tick>=self.duration\n",
    "    def reset(self,time,device):\n",
    "        self.tick=time\n",
    "\n",
    "class VoltageLimit(EndCriterion):\n",
    "    def __init__(self,ptree,compare):\n",
    "        self.voltage_limit=ptree.get_double('voltage_limit')\n",
    "        self.compare=compare\n",
    "    def check(self,time,device):\n",
    "        return not self.compare(device.get_voltage(),self.voltage_limit)\n",
    "    def reset(self,time,device):\n",
    "        pass\n",
    "\n",
    "class CurrentLimit(EndCriterion):\n",
    "    def __init__(self,ptree,compare):\n",
    "        self.current_limit=ptree.get_double('current_limit')\n",
    "        self.compare=compare\n",
    "    def check(self,time,device):\n",
    "        return not self.compare(device.get_current(),self.current_limit)\n",
    "    def reset(self,time,device):\n",
    "        pass"
   ]
  }
 ],
 "metadata": {
  "kernelspec": {
   "display_name": "Python 2",
   "language": "python",
   "name": "python2"
  },
  "language_info": {
   "codemirror_mode": {
    "name": "ipython",
    "version": 2
   },
   "file_extension": ".py",
   "mimetype": "text/x-python",
   "name": "python",
   "nbconvert_exporter": "python",
   "pygments_lexer": "ipython2",
   "version": "2.7.10"
  }
 },
 "nbformat": 4,
 "nbformat_minor": 0
}
