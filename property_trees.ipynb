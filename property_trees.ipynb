{
 "cells": [
  {
   "cell_type": "code",
   "execution_count": 1,
   "metadata": {
    "collapsed": false
   },
   "outputs": [
    {
     "name": "stdout",
     "output_type": "stream",
     "text": [
      "<uq>\r\n",
      "    <params> 2 </params>\r\n",
      "    <param_0>\r\n",
      "        <name> device.material_properties.electrode_material.void_volume_fraction </name>\r\n",
      "        <distribution_type> normal </distribution_type>\r\n",
      "        <mean>                0.67 </mean>\r\n",
      "        <standard_deviation>  0.03 </standard_deviation>\r\n",
      "    </param_0>\r\n",
      "    <param_1>\r\n",
      "        <name> device.material_properties.separator_material.void_volume_fraction </name>\r\n",
      "        <distribution_type> normal </distribution_type>\r\n",
      "        <mean>                0.6  </mean>\r\n",
      "        <standard_deviation>  0.03 </standard_deviation>\r\n",
      "    </param_1>\r\n",
      "</uq>\r\n"
     ]
    }
   ],
   "source": [
    "!cat uq.xml"
   ]
  },
  {
   "cell_type": "code",
   "execution_count": 2,
   "metadata": {
    "collapsed": true
   },
   "outputs": [],
   "source": [
    "import pycap"
   ]
  },
  {
   "cell_type": "code",
   "execution_count": 3,
   "metadata": {
    "collapsed": false
   },
   "outputs": [
    {
     "name": "stdout",
     "output_type": "stream",
     "text": [
      "{'device.material_properties.separator_material.void_volume_fraction': 'normal', 'device.material_properties.electrode_material.void_volume_fraction': 'normal'}\n"
     ]
    }
   ],
   "source": [
    "# parse uq database\n",
    "uq_database=pycap.PropertyTree()\n",
    "uq_database.parse_xml('uq.xml')\n",
    "# build a python dictionary that maps parameter name to distribution type\n",
    "distribution_type={}\n",
    "params=uq_database.get_int('uq.params')\n",
    "for p in range(params):\n",
    "    param_database=uq_database.get_child('uq.param_'+str(p))\n",
    "    distribution_type[param_database.get_string('name')]=param_database.get_string('distribution_type')\n",
    "# print it to the screen\n",
    "print distribution_type"
   ]
  }
 ],
 "metadata": {
  "kernelspec": {
   "display_name": "Python 2",
   "language": "python",
   "name": "python2"
  },
  "language_info": {
   "codemirror_mode": {
    "name": "ipython",
    "version": 2
   },
   "file_extension": ".py",
   "mimetype": "text/x-python",
   "name": "python",
   "nbconvert_exporter": "python",
   "pygments_lexer": "ipython2",
   "version": "2.7.3"
  }
 },
 "nbformat": 4,
 "nbformat_minor": 0
}
