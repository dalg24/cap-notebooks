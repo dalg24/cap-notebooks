{
 "cells": [
  {
   "cell_type": "code",
   "execution_count": 1,
   "metadata": {
    "collapsed": true
   },
   "outputs": [],
   "source": [
    "import pycap"
   ]
  },
  {
   "cell_type": "markdown",
   "metadata": {},
   "source": [
    "# Parsing an input file and accessing the data"
   ]
  },
  {
   "cell_type": "code",
   "execution_count": 2,
   "metadata": {
    "collapsed": false
   },
   "outputs": [
    {
     "name": "stdout",
     "output_type": "stream",
     "text": [
      "<uq>\r\n",
      "    <params> 2 </params>\r\n",
      "    <param_0>\r\n",
      "        <name> device.material_properties.electrode_material.void_volume_fraction </name>\r\n",
      "        <distribution_type>      normal </distribution_type>\r\n",
      "        <mean>                     0.67 </mean>\r\n",
      "        <standard_deviation>       0.03 </standard_deviation>\r\n",
      "    </param_0>\r\n",
      "    <param_1>\r\n",
      "        <name> device.material_properties.separator_material.void_volume_fraction </name>\r\n",
      "        <distribution_type>     uniform </distribution_type>\r\n",
      "        <range>              0.65, 0.75 </range>\r\n",
      "    </param_1>\r\n",
      "</uq>\r\n"
     ]
    }
   ],
   "source": [
    "!cat uq.xml"
   ]
  },
  {
   "cell_type": "code",
   "execution_count": 3,
   "metadata": {
    "collapsed": false
   },
   "outputs": [
    {
     "name": "stdout",
     "output_type": "stream",
     "text": [
      "{'device.material_properties.separator_material.void_volume_fraction': 'uniform', 'device.material_properties.electrode_material.void_volume_fraction': 'normal'}\n"
     ]
    }
   ],
   "source": [
    "# parse uq database\n",
    "uq_database=pycap.PropertyTree()\n",
    "uq_database.parse_xml('uq.xml')\n",
    "# build a python dictionary that maps parameter name to distribution type\n",
    "distribution_type={}\n",
    "params=uq_database.get_int('uq.params')\n",
    "for p in range(params):\n",
    "    param_database=uq_database.get_child('uq.param_'+str(p))\n",
    "    distribution_type[param_database.get_string('name')]=param_database.get_string('distribution_type')\n",
    "# print it to the screen\n",
    "print distribution_type\n",
    "# access directly data using full path\n",
    "mean_param_0=uq_database.get_double('uq.param_0.mean')\n",
    "standard_deviation_param_0=uq_database.get_double('uq.param_0.standard_deviation')\n",
    "range_param_1=uq_database.get_array_double('uq.param_1.range')"
   ]
  },
  {
   "cell_type": "markdown",
   "metadata": {},
   "source": [
    "# Filling the property tree"
   ]
  },
  {
   "cell_type": "code",
   "execution_count": 4,
   "metadata": {
    "collapsed": false
   },
   "outputs": [
    {
     "name": "stdout",
     "output_type": "stream",
     "text": [
      "hello world!\n"
     ]
    }
   ],
   "source": [
    "ptree=pycap.PropertyTree()\n",
    "ptree.put_string('greeting','hello world!')\n",
    "print ptree.get_string('greeting')"
   ]
  },
  {
   "cell_type": "code",
   "execution_count": 5,
   "metadata": {
    "collapsed": false
   },
   "outputs": [
    {
     "name": "stdout",
     "output_type": "stream",
     "text": [
      "3\n",
      "True\n",
      "1.41421356237\n",
      "3.14159265359\n"
     ]
    }
   ],
   "source": [
    "ptree.put_int('dim',3)\n",
    "ptree.put_double('math.pi',3.14159265359)\n",
    "ptree.put_double('math.sqrt2',1.41421356237)\n",
    "ptree.put_bool('this works',True)\n",
    "print ptree.get_int('dim')\n",
    "print ptree.get_bool('this works')\n",
    "print ptree.get_double('math.sqrt2')\n",
    "child=ptree.get_child('math')\n",
    "print child.get_double('pi')"
   ]
  }
 ],
 "metadata": {
  "kernelspec": {
   "display_name": "Python 2",
   "language": "python",
   "name": "python2"
  },
  "language_info": {
   "codemirror_mode": {
    "name": "ipython",
    "version": 2
   },
   "file_extension": ".py",
   "mimetype": "text/x-python",
   "name": "python",
   "nbconvert_exporter": "python",
   "pygments_lexer": "ipython2",
   "version": "2.7.3"
  }
 },
 "nbformat": 4,
 "nbformat_minor": 0
}
